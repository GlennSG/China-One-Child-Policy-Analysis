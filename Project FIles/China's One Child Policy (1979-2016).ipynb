{
 "cells": [
  {
   "cell_type": "markdown",
   "metadata": {},
   "source": [
    "# Experiment Outline\n",
    "\n",
    "## Hypothesis: China's one child policy reduced the population growth rate in China.\n",
    "\n",
    "A: China's population growth rate before the policy (1960 - 1978)\n",
    "\n",
    "B: China's population growth rate after introducing the policy (1979 - 2016)\n",
    "\n",
    "Other factors of interest: policy's affect on Gross Domestic Product (GDP)"
   ]
  },
  {
   "cell_type": "code",
   "execution_count": null,
   "metadata": {},
   "outputs": [],
   "source": []
  }
 ],
 "metadata": {
  "kernelspec": {
   "display_name": "Python 3",
   "language": "python",
   "name": "python3"
  },
  "language_info": {
   "codemirror_mode": {
    "name": "ipython",
    "version": 3
   },
   "file_extension": ".py",
   "mimetype": "text/x-python",
   "name": "python",
   "nbconvert_exporter": "python",
   "pygments_lexer": "ipython3",
   "version": "3.6.4"
  }
 },
 "nbformat": 4,
 "nbformat_minor": 2
}
